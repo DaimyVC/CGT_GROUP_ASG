{
 "cells": [
  {
   "cell_type": "code",
   "execution_count": null,
   "metadata": {},
   "outputs": [],
   "source": [
    "import matplotlib.pyplot as plt\n",
    "import numpy as np\n",
    "from Q_Learning import evaluate, train, make_QTables\n",
    "from extended_pd import parallel_env"
   ]
  },
  {
   "cell_type": "code",
   "execution_count": null,
   "metadata": {},
   "outputs": [],
   "source": [
    "env = parallel_env()\n",
    "\n",
    "# Values of gamma to test\n",
    "gamma_values = [0.8, 0.9, 0.95, 0.99]\n",
    "\n",
    "# Lists to store results for each gamma\n",
    "mean_rewards_list = []"
   ]
  },
  {
   "cell_type": "code",
   "execution_count": null,
   "metadata": {},
   "outputs": [],
   "source": [
    "trials = 1\n",
    "\n",
    "tot_rew = []\n",
    "\n",
    "for t in range(trials):\n",
    "\n",
    "    tot_rew_per_episode = []\n",
    "\n",
    "    for gamma in gamma_values:\n",
    "        alfa = 0.01\n",
    "        adecay = 0.0001\n",
    "        env = parallel_env()\n",
    "        observations, infos = env.reset()\n",
    "        qtables = make_QTables(env, gamma)\n",
    "        qtables,tot_rew_per_gamma = train(env, 100000, 0, 0.2, 0.000006, 100, qtables, gamma, alfa, adecay)\n",
    "        tot_rew_per_episode.append(tot_rew_per_gamma)\n",
    "    \n",
    "    tot_rew.append(tot_rew_per_episode)"
   ]
  }
 ],
 "metadata": {
  "language_info": {
   "name": "python"
  }
 },
 "nbformat": 4,
 "nbformat_minor": 2
}
